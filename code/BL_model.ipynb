{
 "cells": [
  {
   "cell_type": "code",
   "execution_count": 121,
   "id": "8e91d3b7",
   "metadata": {},
   "outputs": [],
   "source": [
    "import pandas as pd\n",
    "import numpy as np\n",
    "np.set_printoptions(suppress=True) \n",
    "import matplotlib.pyplot as plt\n",
    "import scipy.optimize as sco\n"
   ]
  },
  {
   "cell_type": "code",
   "execution_count": 2,
   "id": "65584f1d",
   "metadata": {},
   "outputs": [],
   "source": [
    "data1=pd.read_csv(\"russia.csv\",index_col=0)\n",
    "data2=pd.read_csv(\"america.csv\",index_col=0)\n",
    "data3=pd.read_csv(\"consumer.csv\",index_col=0)\n",
    "data4=pd.read_csv(\"health.csv\",index_col=0)\n",
    "data5=pd.read_csv(\"spdr.csv\",index_col=0)\n",
    "data6=pd.read_csv(\"vangue.csv\",index_col=0)\n",
    "data7=pd.read_csv(\"S&P.csv\",index_col=0)\n"
   ]
  },
  {
   "cell_type": "code",
   "execution_count": 3,
   "id": "df3d5327",
   "metadata": {},
   "outputs": [
    {
     "data": {
      "text/html": [
       "<div>\n",
       "<style scoped>\n",
       "    .dataframe tbody tr th:only-of-type {\n",
       "        vertical-align: middle;\n",
       "    }\n",
       "\n",
       "    .dataframe tbody tr th {\n",
       "        vertical-align: top;\n",
       "    }\n",
       "\n",
       "    .dataframe thead th {\n",
       "        text-align: right;\n",
       "    }\n",
       "</style>\n",
       "<table border=\"1\" class=\"dataframe\">\n",
       "  <thead>\n",
       "    <tr style=\"text-align: right;\">\n",
       "      <th></th>\n",
       "      <th>���</th>\n",
       "      <th>����</th>\n",
       "      <th>�}��</th>\n",
       "      <th>��</th>\n",
       "      <th>�C</th>\n",
       "      <th>����q</th>\n",
       "      <th>���.</th>\n",
       "      <th>week_return_mean</th>\n",
       "      <th>week_return</th>\n",
       "    </tr>\n",
       "  </thead>\n",
       "  <tbody>\n",
       "    <tr>\n",
       "      <th>2</th>\n",
       "      <td>2013�~7��14��</td>\n",
       "      <td>102.75</td>\n",
       "      <td>101.97</td>\n",
       "      <td>102.85</td>\n",
       "      <td>101.94</td>\n",
       "      <td>3.15M</td>\n",
       "      <td>0.88%</td>\n",
       "      <td>0</td>\n",
       "      <td>0.008837</td>\n",
       "    </tr>\n",
       "    <tr>\n",
       "      <th>3</th>\n",
       "      <td>2013�~7��21��</td>\n",
       "      <td>102.17</td>\n",
       "      <td>102.74</td>\n",
       "      <td>102.86</td>\n",
       "      <td>101.60</td>\n",
       "      <td>15.86M</td>\n",
       "      <td>-0.56%</td>\n",
       "      <td>0</td>\n",
       "      <td>-0.005645</td>\n",
       "    </tr>\n",
       "    <tr>\n",
       "      <th>4</th>\n",
       "      <td>2013�~7��28��</td>\n",
       "      <td>101.82</td>\n",
       "      <td>102.04</td>\n",
       "      <td>102.10</td>\n",
       "      <td>100.86</td>\n",
       "      <td>7.19M</td>\n",
       "      <td>-0.34%</td>\n",
       "      <td>0</td>\n",
       "      <td>-0.003426</td>\n",
       "    </tr>\n",
       "    <tr>\n",
       "      <th>5</th>\n",
       "      <td>2013�~8��4��</td>\n",
       "      <td>102.12</td>\n",
       "      <td>101.61</td>\n",
       "      <td>102.15</td>\n",
       "      <td>101.39</td>\n",
       "      <td>2.50M</td>\n",
       "      <td>0.29%</td>\n",
       "      <td>0</td>\n",
       "      <td>0.002946</td>\n",
       "    </tr>\n",
       "    <tr>\n",
       "      <th>6</th>\n",
       "      <td>2013�~8��11��</td>\n",
       "      <td>100.14</td>\n",
       "      <td>102.27</td>\n",
       "      <td>102.27</td>\n",
       "      <td>99.85</td>\n",
       "      <td>19.16M</td>\n",
       "      <td>-1.94%</td>\n",
       "      <td>0</td>\n",
       "      <td>-0.019389</td>\n",
       "    </tr>\n",
       "  </tbody>\n",
       "</table>\n",
       "</div>"
      ],
      "text/plain": [
       "             ���    ����    �}��      ��      �C   ����q    ���.  \\\n",
       "2  2013�~7��14��  102.75  101.97  102.85  101.94   3.15M   0.88%   \n",
       "3  2013�~7��21��  102.17  102.74  102.86  101.60  15.86M  -0.56%   \n",
       "4  2013�~7��28��  101.82  102.04  102.10  100.86   7.19M  -0.34%   \n",
       "5   2013�~8��4��  102.12  101.61  102.15  101.39   2.50M   0.29%   \n",
       "6  2013�~8��11��  100.14  102.27  102.27   99.85  19.16M  -1.94%   \n",
       "\n",
       "   week_return_mean  week_return  \n",
       "2                 0     0.008837  \n",
       "3                 0    -0.005645  \n",
       "4                 0    -0.003426  \n",
       "5                 0     0.002946  \n",
       "6                 0    -0.019389  "
      ]
     },
     "execution_count": 3,
     "metadata": {},
     "output_type": "execute_result"
    }
   ],
   "source": [
    "data2.head()"
   ]
  },
  {
   "cell_type": "code",
   "execution_count": 4,
   "id": "c3525bd3",
   "metadata": {},
   "outputs": [],
   "source": [
    "a1=np.array(data1['week_return'])\n",
    "a2=np.array(data2['week_return'])\n",
    "a3=np.array(data3['week_return'])\n",
    "a4=np.array(data4['week_return'])\n",
    "a5=np.array(data5['week_return'])\n",
    "a6=np.array(data6['week_return'])\n",
    "a7=np.array(data7['week_return'])\n",
    "\n"
   ]
  },
  {
   "cell_type": "code",
   "execution_count": 5,
   "id": "5cdb52ee",
   "metadata": {},
   "outputs": [
    {
     "name": "stdout",
     "output_type": "stream",
     "text": [
      "[[ 0.01587456 -0.00182149  0.00998847 ... -0.00971509  0.05357597\n",
      "  -0.00554832]\n",
      " [ 0.00883652 -0.00564477 -0.00342566 ... -0.02159292 -0.01347685\n",
      "  -0.02741359]\n",
      " [ 0.00893073 -0.00645933  0.00529738 ... -0.05838935  0.03849384\n",
      "   0.01145707]\n",
      " ...\n",
      " [ 0.01876513 -0.00415924  0.00835322 ... -0.02229385  0.07142857\n",
      "   0.01333333]\n",
      " [ 0.01153488  0.00128747  0.011205   ... -0.0240231   0.06359603\n",
      "   0.00744934]\n",
      " [ 0.00990986 -0.00035467  0.01088049 ... -0.02799824  0.05820458\n",
      "   0.01837938]]\n"
     ]
    }
   ],
   "source": [
    "A=np.vstack((a1,a2,a3,a4,a5,a6,a7))\n",
    "print(A)"
   ]
  },
  {
   "cell_type": "code",
   "execution_count": 6,
   "id": "121feef7",
   "metadata": {},
   "outputs": [
    {
     "name": "stdout",
     "output_type": "stream",
     "text": [
      "[[ 0.00088442 -0.00006345  0.00032689  0.00047912  0.00074034  0.00057752\n",
      "   0.0005766 ]\n",
      " [-0.00006345  0.00006085 -0.00000243 -0.00002141 -0.00010428 -0.00004293\n",
      "  -0.00004447]\n",
      " [ 0.00032689 -0.00000243  0.00035601  0.00030437  0.00033724  0.0003013\n",
      "   0.00032463]\n",
      " [ 0.00047912 -0.00002141  0.00030437  0.00053421  0.00043824  0.00039725\n",
      "   0.00042513]\n",
      " [ 0.00074034 -0.00010428  0.00033724  0.00043824  0.00088454  0.0005477\n",
      "   0.00056211]\n",
      " [ 0.00057752 -0.00004293  0.0003013   0.00039725  0.0005477   0.00047703\n",
      "   0.00046637]\n",
      " [ 0.0005766  -0.00004447  0.00032463  0.00042513  0.00056211  0.00046637\n",
      "   0.00048953]]\n"
     ]
    }
   ],
   "source": [
    "sigma1=np.cov(A)#變異數矩陣\n",
    "print(sigma1)"
   ]
  },
  {
   "cell_type": "code",
   "execution_count": 7,
   "id": "ca220642",
   "metadata": {},
   "outputs": [],
   "source": [
    "W_mkt=np.array([ 0.0948, 0.0321, 0.0281, 0.0687, 0.0603, 0.0578, 0.6583])"
   ]
  },
  {
   "cell_type": "code",
   "execution_count": 8,
   "id": "e9dee07c",
   "metadata": {},
   "outputs": [
    {
     "name": "stdout",
     "output_type": "stream",
     "text": [
      "[0.00198108 0.00012007 0.00148939 0.00249904 0.00236648 0.00164057\n",
      " 0.0024397 ]\n"
     ]
    }
   ],
   "source": [
    "rm=np.array([np.mean(a1),np.mean(a2),np.mean(a3),np.mean(a4),np.mean(a5),np.mean(a6),np.mean(a7)])#rm=7個資產的平均報酬\n",
    "print(rm)"
   ]
  },
  {
   "cell_type": "code",
   "execution_count": 72,
   "id": "2762bee5",
   "metadata": {},
   "outputs": [
    {
     "name": "stdout",
     "output_type": "stream",
     "text": [
      "0.00012006520384121395\n",
      "4.587125635937978\n",
      "[ 0.0027 -0.0002  0.0014  0.0019  0.0026  0.0021  0.0022]\n"
     ]
    }
   ],
   "source": [
    "rf=np.mean(a2)#無風險利率\n",
    "print(rf)\n",
    "delta=(rm@W_mkt-rf)/(W_mkt@sigma1@W_mkt.T)#風險趨避參數\n",
    "print(delta)\n",
    "pi=delta*sigma1@W_mkt#市場均衡超額報酬   \n",
    "pi=np.round(pi,4)\n",
    "print(pi)"
   ]
  },
  {
   "cell_type": "markdown",
   "id": "79271e88",
   "metadata": {},
   "source": [
    "觀點部分"
   ]
  },
  {
   "cell_type": "code",
   "execution_count": 168,
   "id": "e446b962",
   "metadata": {},
   "outputs": [
    {
     "name": "stdout",
     "output_type": "stream",
     "text": [
      "[[0.00000195 0.         0.         0.         0.         0.\n",
      "  0.        ]\n",
      " [0.         0.00000013 0.         0.         0.         0.\n",
      "  0.        ]\n",
      " [0.         0.         0.00000078 0.         0.         0.\n",
      "  0.        ]\n",
      " [0.         0.         0.         0.00000118 0.         0.\n",
      "  0.        ]\n",
      " [0.         0.         0.         0.         0.00000195 0.\n",
      "  0.        ]\n",
      " [0.         0.         0.         0.         0.         0.00000105\n",
      "  0.        ]\n",
      " [0.         0.         0.         0.         0.         0.\n",
      "  0.00000108]]\n"
     ]
    }
   ],
   "source": [
    "#P因為Q為各個資產的絕對觀點 所以P為單位矩陣\n",
    "P=np.identity(7)\n",
    "Q=[-0.01402867,0,0.00318501,-0.02850218,0.01435457,0.02229591,-0.01486094]#7個資產LSTM跑出來預期報酬\n",
    "tui=1/454#調整因子454為總樣本數#\n",
    "#\n",
    "omega=np.diag(tui*P@sigma1@P.T)\n",
    "omega=np.diag(omega)\n",
    "print(omega)"
   ]
  },
  {
   "cell_type": "code",
   "execution_count": 169,
   "id": "864ddf32",
   "metadata": {},
   "outputs": [
    {
     "name": "stdout",
     "output_type": "stream",
     "text": [
      "[-0.0022 -0.0004 -0.0006 -0.0082  0.002  -0.0002 -0.0018]\n"
     ]
    }
   ],
   "source": [
    "#後驗ER\n",
    "ER=np.linalg.inv(np.linalg.inv(tui*sigma1)+P.T@np.linalg.inv(omega)@P)@(np.linalg.inv(tui*sigma1)@pi+P.T@np.linalg.inv(omega)@Q)\n",
    "ER=np.round(ER,4)\n",
    "print(ER)"
   ]
  },
  {
   "cell_type": "code",
   "execution_count": 170,
   "id": "9472ef22",
   "metadata": {},
   "outputs": [
    {
     "name": "stdout",
     "output_type": "stream",
     "text": [
      "[ 0.0027 -0.0002  0.0014  0.0019  0.0026  0.0021  0.0022]\n"
     ]
    }
   ],
   "source": [
    "print(pi)"
   ]
  },
  {
   "cell_type": "code",
   "execution_count": 151,
   "id": "e60cc6aa",
   "metadata": {},
   "outputs": [
    {
     "name": "stdout",
     "output_type": "stream",
     "text": [
      "[[ 0.00088496 -0.00006347  0.00032693  0.00047924  0.00074061  0.00057774\n",
      "   0.00057679]\n",
      " [-0.00006347  0.00006091 -0.00000242 -0.00002141 -0.00010434 -0.00004294\n",
      "  -0.00004448]\n",
      " [ 0.00032693 -0.00000242  0.00035629  0.00030448  0.00033732  0.0003014\n",
      "   0.00032475]\n",
      " [ 0.00047924 -0.00002141  0.00030448  0.00053458  0.00043832  0.00039737\n",
      "   0.00042528]\n",
      " [ 0.00074061 -0.00010434  0.00033732  0.00043832  0.00088508  0.00054788\n",
      "   0.0005623 ]\n",
      " [ 0.00057774 -0.00004294  0.0003014   0.00039737  0.00054788  0.00047725\n",
      "   0.00046655]\n",
      " [ 0.00057679 -0.00004448  0.00032475  0.00042528  0.0005623   0.00046655\n",
      "   0.00048974]]\n"
     ]
    }
   ],
   "source": [
    "#新的變異數矩陣\n",
    "sigma_p=np.linalg.inv(np.linalg.inv(tui*sigma1)+P.T@np.linalg.inv(omega)@P)+sigma1\n",
    "print(sigma_p)"
   ]
  },
  {
   "cell_type": "code",
   "execution_count": 152,
   "id": "b47bab59",
   "metadata": {},
   "outputs": [
    {
     "name": "stdout",
     "output_type": "stream",
     "text": [
      "[-2.19268318  1.37987852  1.6323004  -6.32339183  2.41504351  7.6903136\n",
      " -3.60146102]\n",
      "0.9999999999999982\n"
     ]
    }
   ],
   "source": [
    "#新的最佳權重\n",
    "l=np.array([1,1,1,1,1,1,1])\n",
    "W_new=(np.linalg.inv(sigma_p)@ER)/(l.T@np.linalg.inv(sigma_p)@ER)\n",
    "print(W_new)\n",
    "print(sum(W_new))"
   ]
  },
  {
   "cell_type": "code",
   "execution_count": 153,
   "id": "58c5ef4c",
   "metadata": {
    "scrolled": true
   },
   "outputs": [
    {
     "name": "stdout",
     "output_type": "stream",
     "text": [
      "[-2.1927  1.3799  1.6323 -6.3234  2.415   7.6903 -3.6015]\n",
      "0.9998999999999998\n"
     ]
    }
   ],
   "source": [
    "print(np.round(W_new,4))#%\n",
    "print(sum(np.round(W_new,4)))"
   ]
  },
  {
   "cell_type": "code",
   "execution_count": 154,
   "id": "d43ee124",
   "metadata": {},
   "outputs": [
    {
     "name": "stdout",
     "output_type": "stream",
     "text": [
      "[-0.0022 -0.0004 -0.0006 -0.0082  0.002  -0.0002 -0.0018]\n",
      "[ 0.0027 -0.0002  0.0014  0.0019  0.0026  0.0021  0.0022]\n"
     ]
    }
   ],
   "source": [
    "print(ER)\n",
    "print(pi)"
   ]
  },
  {
   "cell_type": "markdown",
   "id": "5bef328b",
   "metadata": {},
   "source": [
    "最後用兩個權重分別計算夏普值比較"
   ]
  },
  {
   "cell_type": "code",
   "execution_count": 35,
   "id": "6fae823c",
   "metadata": {},
   "outputs": [
    {
     "data": {
      "text/plain": [
       "array([0.0948, 0.0321, 0.0281, 0.0687, 0.0603, 0.0578, 0.6583])"
      ]
     },
     "execution_count": 35,
     "metadata": {},
     "output_type": "execute_result"
    }
   ],
   "source": [
    "W_mkt"
   ]
  },
  {
   "cell_type": "code",
   "execution_count": 122,
   "id": "5df09f7f",
   "metadata": {},
   "outputs": [],
   "source": [
    "def portfolioVariance(weights): #計算组合方差\n",
    "    weights = np.array(weights)\n",
    "    var = np.dot(weights.T, np.dot(sigma_p, weights))\n",
    "    return var\n",
    "\n",
    "def portfolioVolatility(weights): #計算组合標準差\n",
    "    return np.sqrt(np.dot(weights.T, np.dot(sigma_p, weights)))\n",
    "\n",
    "def portfolioReturn(weights): #計算組合收益率\n",
    "    return np.sum(ER * weights) \n",
    "\n",
    "def portfolioSharpeRatio(weights): #計算组合夏普比率\n",
    "    return (portfolioReturn(weights) - rf) / portfolioVolatility(weights)"
   ]
  },
  {
   "cell_type": "code",
   "execution_count": 123,
   "id": "d87bdfcd",
   "metadata": {},
   "outputs": [],
   "source": [
    "portfolioReturns = []\n",
    "portfolioVolatilies = []"
   ]
  },
  {
   "cell_type": "code",
   "execution_count": 125,
   "id": "028d473c",
   "metadata": {},
   "outputs": [],
   "source": [
    "minRet = min(ER)\n",
    "maxRet = max(ER)\n",
    "trets = np.linspace(minRet, maxRet, 50)\n",
    "tvols = []\n",
    "weights=[]\n",
    "sharpe=[]\n",
    "initialWeights = np.ones(7)\n",
    "bnds = tuple((0, 1) for x in initialWeights)\n",
    "\n",
    "for tret in trets:\n",
    "    cons = ({'type': 'eq', 'fun': lambda x:  portfolioReturn(x) - tret},\n",
    "            {'type': 'eq', 'fun': lambda x:  np.sum(x) - 1})\n",
    "\n",
    "    res = sco.minimize(portfolioVolatility, initialWeights, method='SLSQP', bounds=bnds, constraints=cons)\n",
    "    frontierWeights = res['x']\n",
    "    frontierRet = portfolioReturn(frontierWeights)\n",
    "    frontierVol = portfolioVolatility(frontierWeights)    \n",
    "    tvols.append(res['fun'])\n",
    "    weights.append(frontierWeights)\n",
    "    sharpe.append((frontierRet-rf)/frontierVol)"
   ]
  },
  {
   "cell_type": "code",
   "execution_count": 126,
   "id": "fec82d68",
   "metadata": {},
   "outputs": [
    {
     "data": {
      "text/plain": [
       "<matplotlib.colorbar.Colorbar at 0x2051f24f340>"
      ]
     },
     "execution_count": 126,
     "metadata": {},
     "output_type": "execute_result"
    },
    {
     "data": {
      "image/png": "[encoded data removed]",
      "text/plain": [
       "<Figure size 1152x576 with 2 Axes>"
      ]
     },
     "metadata": {
      "needs_background": "light"
     },
     "output_type": "display_data"
    }
   ],
   "source": [
    "plt.figure(figsize=(16, 8))\n",
    "plt.scatter(tvols, trets, c=(trets-rf) / tvols, marker='o')\n",
    "plt.grid(True)\n",
    "plt.xlabel('Expected volatility')\n",
    "plt.ylabel('Expected return')\n",
    "plt.colorbar(label='Sharpe ratio')"
   ]
  },
  {
   "cell_type": "code",
   "execution_count": 135,
   "id": "6c3a69af",
   "metadata": {},
   "outputs": [
    {
     "data": {
      "text/plain": [
       "[array([0.00000001, 0.        , 0.        , 0.99999999, 0.        ,\n",
       "        0.        , 0.        ]),\n",
       " array([0.       , 0.0266876, 0.       , 0.9733124, 0.       , 0.       ,\n",
       "        0.       ]),\n",
       " array([0.       , 0.0533752, 0.       , 0.9466248, 0.       , 0.       ,\n",
       "        0.       ]),\n",
       " array([0.        , 0.08006279, 0.        , 0.91993721, 0.        ,\n",
       "        0.        , 0.        ]),\n",
       " array([0.        , 0.10675039, 0.        , 0.89324961, 0.        ,\n",
       "        0.        , 0.        ]),\n",
       " array([0.        , 0.13343799, 0.        , 0.86656201, 0.        ,\n",
       "        0.        , 0.        ]),\n",
       " array([0.        , 0.16012559, 0.        , 0.83987441, 0.        ,\n",
       "        0.        , 0.        ]),\n",
       " array([0.        , 0.18681319, 0.        , 0.81318681, 0.        ,\n",
       "        0.        , 0.        ]),\n",
       " array([0.        , 0.21350078, 0.        , 0.78649922, 0.        ,\n",
       "        0.        , 0.        ]),\n",
       " array([0.        , 0.24018838, 0.        , 0.75981162, 0.        ,\n",
       "        0.        , 0.        ]),\n",
       " array([0.        , 0.26687598, 0.        , 0.73312402, 0.        ,\n",
       "        0.        , 0.        ]),\n",
       " array([0.        , 0.29356358, 0.        , 0.70643642, 0.        ,\n",
       "        0.        , 0.        ]),\n",
       " array([0.        , 0.32025118, 0.        , 0.67974882, 0.        ,\n",
       "        0.        , 0.        ]),\n",
       " array([0.        , 0.34693878, 0.        , 0.65306122, 0.        ,\n",
       "        0.        , 0.        ]),\n",
       " array([0.        , 0.37362637, 0.        , 0.62637363, 0.        ,\n",
       "        0.        , 0.        ]),\n",
       " array([0.        , 0.40031397, 0.        , 0.59968603, 0.        ,\n",
       "        0.        , 0.        ]),\n",
       " array([0.        , 0.42700157, 0.        , 0.57299843, 0.        ,\n",
       "        0.        , 0.        ]),\n",
       " array([0.        , 0.45368917, 0.        , 0.54631083, 0.        ,\n",
       "        0.        , 0.        ]),\n",
       " array([0.        , 0.48037677, 0.        , 0.51962323, 0.        ,\n",
       "        0.        , 0.        ]),\n",
       " array([0.        , 0.50706436, 0.        , 0.49293564, 0.        ,\n",
       "        0.        , 0.        ]),\n",
       " array([0.        , 0.53375196, 0.        , 0.46624804, 0.        ,\n",
       "        0.        , 0.        ]),\n",
       " array([0.        , 0.56043956, 0.        , 0.43956044, 0.        ,\n",
       "        0.        , 0.        ]),\n",
       " array([0.        , 0.58712716, 0.        , 0.41287284, 0.        ,\n",
       "        0.        , 0.        ]),\n",
       " array([0.        , 0.61381476, 0.        , 0.38618524, 0.        ,\n",
       "        0.        , 0.        ]),\n",
       " array([0.        , 0.64050235, 0.        , 0.35949765, 0.        ,\n",
       "        0.        , 0.        ]),\n",
       " array([0.        , 0.66718995, 0.        , 0.33281005, 0.        ,\n",
       "        0.        , 0.        ]),\n",
       " array([0.        , 0.69387755, 0.        , 0.30612245, 0.        ,\n",
       "        0.        , 0.        ]),\n",
       " array([0.        , 0.72056515, 0.        , 0.27943485, 0.        ,\n",
       "        0.        , 0.        ]),\n",
       " array([0.        , 0.74725275, 0.        , 0.25274725, 0.        ,\n",
       "        0.        , 0.        ]),\n",
       " array([0.        , 0.77340231, 0.        , 0.22618625, 0.00041144,\n",
       "        0.        , 0.        ]),\n",
       " array([0.        , 0.77662082, 0.        , 0.20502079, 0.01835839,\n",
       "        0.        , 0.        ]),\n",
       " array([0.        , 0.78739714, 0.        , 0.18207702, 0.03052583,\n",
       "        0.        , 0.        ]),\n",
       " array([0.        , 0.79676099, 0.        , 0.1594656 , 0.04377341,\n",
       "        0.        , 0.        ]),\n",
       " array([0.        , 0.80247476, 0.        , 0.13771302, 0.05981222,\n",
       "        0.        , 0.        ]),\n",
       " array([0.       , 0.8129215, 0.       , 0.1148468, 0.0722317, 0.       ,\n",
       "        0.       ]),\n",
       " array([0.        , 0.82254468, 0.        , 0.09217436, 0.08528096,\n",
       "        0.        , 0.        ]),\n",
       " array([0.        , 0.8302474 , 0.        , 0.06995379, 0.09979881,\n",
       "        0.        , 0.        ]),\n",
       " array([0.        , 0.84077805, 0.        , 0.04706783, 0.11215412,\n",
       "        0.        , 0.        ]),\n",
       " array([0.        , 0.84884855, 0.        , 0.02476073, 0.12639073,\n",
       "        0.        , 0.        ]),\n",
       " array([0.        , 0.85832882, 0.        , 0.00106857, 0.13777522,\n",
       "        0.        , 0.00282739]),\n",
       " array([0.        , 0.78061224, 0.        , 0.        , 0.21938776,\n",
       "        0.        , 0.        ]),\n",
       " array([0.        , 0.69387755, 0.        , 0.        , 0.30612245,\n",
       "        0.        , 0.        ]),\n",
       " array([0.        , 0.60714286, 0.        , 0.        , 0.39285714,\n",
       "        0.        , 0.        ]),\n",
       " array([0.        , 0.52040816, 0.        , 0.        , 0.47959184,\n",
       "        0.        , 0.        ]),\n",
       " array([0.        , 0.43367347, 0.        , 0.        , 0.56632653,\n",
       "        0.        , 0.        ]),\n",
       " array([0.        , 0.34693878, 0.        , 0.        , 0.65306122,\n",
       "        0.        , 0.        ]),\n",
       " array([0.        , 0.26020408, 0.        , 0.        , 0.73979592,\n",
       "        0.        , 0.        ]),\n",
       " array([0.        , 0.17346939, 0.        , 0.        , 0.82653061,\n",
       "        0.        , 0.        ]),\n",
       " array([0.        , 0.08673469, 0.        , 0.        , 0.91326531,\n",
       "        0.        , 0.        ]),\n",
       " array([0., 0., 0., 0., 1., 0., 0.])]"
      ]
     },
     "execution_count": 135,
     "metadata": {},
     "output_type": "execute_result"
    }
   ],
   "source": [
    "weights"
   ]
  },
  {
   "cell_type": "code",
   "execution_count": 136,
   "id": "8d1552a0",
   "metadata": {},
   "outputs": [
    {
     "data": {
      "text/plain": [
       "array([0.        , 0.08673469, 0.        , 0.        , 0.91326531,\n",
       "       0.        , 0.        ])"
      ]
     },
     "execution_count": 136,
     "metadata": {},
     "output_type": "execute_result"
    }
   ],
   "source": [
    "weights[48]"
   ]
  },
  {
   "cell_type": "code",
   "execution_count": 158,
   "id": "fb80d31a",
   "metadata": {},
   "outputs": [
    {
     "ename": "TypeError",
     "evalue": "list indices must be integers or slices, not str",
     "output_type": "error",
     "traceback": [
      "\u001b[1;31m---------------------------------------------------------------------------\u001b[0m",
      "\u001b[1;31mTypeError\u001b[0m                                 Traceback (most recent call last)",
      "\u001b[1;32m<ipython-input-158-8b7e5755875a>\u001b[0m in \u001b[0;36m<module>\u001b[1;34m\u001b[0m\n\u001b[1;32m----> 1\u001b[1;33m \u001b[0msharpe\u001b[0m\u001b[1;33m[\u001b[0m\u001b[1;34m'x'\u001b[0m\u001b[1;33m]\u001b[0m\u001b[1;33m\u001b[0m\u001b[1;33m\u001b[0m\u001b[0m\n\u001b[0m",
      "\u001b[1;31mTypeError\u001b[0m: list indices must be integers or slices, not str"
     ]
    }
   ],
   "source": [
    "sharpe['x']"
   ]
  },
  {
   "cell_type": "code",
   "execution_count": 137,
   "id": "1363229b",
   "metadata": {},
   "outputs": [
    {
     "data": {
      "text/plain": [
       "array([-0.0022, -0.0004, -0.0006, -0.0082,  0.002 , -0.0002, -0.0018])"
      ]
     },
     "execution_count": 137,
     "metadata": {},
     "output_type": "execute_result"
    }
   ],
   "source": [
    "ER"
   ]
  },
  {
   "cell_type": "code",
   "execution_count": 138,
   "id": "9dca2a51",
   "metadata": {},
   "outputs": [
    {
     "data": {
      "text/plain": [
       "0.00012006520384121395"
      ]
     },
     "execution_count": 138,
     "metadata": {},
     "output_type": "execute_result"
    }
   ],
   "source": [
    "rf"
   ]
  },
  {
   "cell_type": "code",
   "execution_count": 167,
   "id": "874f657e",
   "metadata": {},
   "outputs": [
    {
     "data": {
      "text/html": [
       "<div>\n",
       "<style scoped>\n",
       "    .dataframe tbody tr th:only-of-type {\n",
       "        vertical-align: middle;\n",
       "    }\n",
       "\n",
       "    .dataframe tbody tr th {\n",
       "        vertical-align: top;\n",
       "    }\n",
       "\n",
       "    .dataframe thead th {\n",
       "        text-align: right;\n",
       "    }\n",
       "</style>\n",
       "<table border=\"1\" class=\"dataframe\">\n",
       "  <thead>\n",
       "    <tr style=\"text-align: right;\">\n",
       "      <th></th>\n",
       "      <th>0</th>\n",
       "      <th>1</th>\n",
       "      <th>2</th>\n",
       "      <th>3</th>\n",
       "      <th>4</th>\n",
       "      <th>5</th>\n",
       "      <th>6</th>\n",
       "    </tr>\n",
       "  </thead>\n",
       "  <tbody>\n",
       "    <tr>\n",
       "      <th>41</th>\n",
       "      <td>0.000000e+00</td>\n",
       "      <td>6.938776e-01</td>\n",
       "      <td>0.000000e+00</td>\n",
       "      <td>1.709549e-19</td>\n",
       "      <td>0.306122</td>\n",
       "      <td>6.948016e-17</td>\n",
       "      <td>0.000000e+00</td>\n",
       "    </tr>\n",
       "    <tr>\n",
       "      <th>42</th>\n",
       "      <td>0.000000e+00</td>\n",
       "      <td>6.071429e-01</td>\n",
       "      <td>1.908196e-16</td>\n",
       "      <td>1.378208e-17</td>\n",
       "      <td>0.392857</td>\n",
       "      <td>9.857559e-17</td>\n",
       "      <td>0.000000e+00</td>\n",
       "    </tr>\n",
       "    <tr>\n",
       "      <th>43</th>\n",
       "      <td>0.000000e+00</td>\n",
       "      <td>5.204082e-01</td>\n",
       "      <td>1.422473e-16</td>\n",
       "      <td>1.497509e-17</td>\n",
       "      <td>0.479592</td>\n",
       "      <td>3.705302e-16</td>\n",
       "      <td>0.000000e+00</td>\n",
       "    </tr>\n",
       "    <tr>\n",
       "      <th>44</th>\n",
       "      <td>1.399949e-17</td>\n",
       "      <td>4.336735e-01</td>\n",
       "      <td>0.000000e+00</td>\n",
       "      <td>3.735394e-18</td>\n",
       "      <td>0.566327</td>\n",
       "      <td>0.000000e+00</td>\n",
       "      <td>0.000000e+00</td>\n",
       "    </tr>\n",
       "    <tr>\n",
       "      <th>45</th>\n",
       "      <td>1.166521e-17</td>\n",
       "      <td>3.469388e-01</td>\n",
       "      <td>3.469447e-17</td>\n",
       "      <td>0.000000e+00</td>\n",
       "      <td>0.653061</td>\n",
       "      <td>0.000000e+00</td>\n",
       "      <td>8.835662e-19</td>\n",
       "    </tr>\n",
       "    <tr>\n",
       "      <th>46</th>\n",
       "      <td>0.000000e+00</td>\n",
       "      <td>2.602041e-01</td>\n",
       "      <td>0.000000e+00</td>\n",
       "      <td>2.343634e-18</td>\n",
       "      <td>0.739796</td>\n",
       "      <td>2.428613e-17</td>\n",
       "      <td>3.776459e-18</td>\n",
       "    </tr>\n",
       "    <tr>\n",
       "      <th>47</th>\n",
       "      <td>1.668459e-17</td>\n",
       "      <td>1.734694e-01</td>\n",
       "      <td>1.272134e-17</td>\n",
       "      <td>0.000000e+00</td>\n",
       "      <td>0.826531</td>\n",
       "      <td>0.000000e+00</td>\n",
       "      <td>0.000000e+00</td>\n",
       "    </tr>\n",
       "    <tr>\n",
       "      <th>48</th>\n",
       "      <td>4.334915e-18</td>\n",
       "      <td>8.673469e-02</td>\n",
       "      <td>0.000000e+00</td>\n",
       "      <td>0.000000e+00</td>\n",
       "      <td>0.913265</td>\n",
       "      <td>4.857226e-17</td>\n",
       "      <td>8.497682e-18</td>\n",
       "    </tr>\n",
       "    <tr>\n",
       "      <th>49</th>\n",
       "      <td>5.854692e-18</td>\n",
       "      <td>7.146887e-11</td>\n",
       "      <td>5.421011e-20</td>\n",
       "      <td>4.336809e-19</td>\n",
       "      <td>1.000000</td>\n",
       "      <td>0.000000e+00</td>\n",
       "      <td>0.000000e+00</td>\n",
       "    </tr>\n",
       "  </tbody>\n",
       "</table>\n",
       "</div>"
      ],
      "text/plain": [
       "               0             1             2             3         4  \\\n",
       "41  0.000000e+00  6.938776e-01  0.000000e+00  1.709549e-19  0.306122   \n",
       "42  0.000000e+00  6.071429e-01  1.908196e-16  1.378208e-17  0.392857   \n",
       "43  0.000000e+00  5.204082e-01  1.422473e-16  1.497509e-17  0.479592   \n",
       "44  1.399949e-17  4.336735e-01  0.000000e+00  3.735394e-18  0.566327   \n",
       "45  1.166521e-17  3.469388e-01  3.469447e-17  0.000000e+00  0.653061   \n",
       "46  0.000000e+00  2.602041e-01  0.000000e+00  2.343634e-18  0.739796   \n",
       "47  1.668459e-17  1.734694e-01  1.272134e-17  0.000000e+00  0.826531   \n",
       "48  4.334915e-18  8.673469e-02  0.000000e+00  0.000000e+00  0.913265   \n",
       "49  5.854692e-18  7.146887e-11  5.421011e-20  4.336809e-19  1.000000   \n",
       "\n",
       "               5             6  \n",
       "41  6.948016e-17  0.000000e+00  \n",
       "42  9.857559e-17  0.000000e+00  \n",
       "43  3.705302e-16  0.000000e+00  \n",
       "44  0.000000e+00  0.000000e+00  \n",
       "45  0.000000e+00  8.835662e-19  \n",
       "46  2.428613e-17  3.776459e-18  \n",
       "47  0.000000e+00  0.000000e+00  \n",
       "48  4.857226e-17  8.497682e-18  \n",
       "49  0.000000e+00  0.000000e+00  "
      ]
     },
     "execution_count": 167,
     "metadata": {},
     "output_type": "execute_result"
    }
   ],
   "source": [
    "Sharpe_Ratio=pd.DataFrame(sharpe,columns=[\"Sharpe Ratio\"])\n",
    "find_highest_ratio=Sharpe_Ratio[Sharpe_Ratio[\"Sharpe Ratio\"]>=0.01].index\n",
    "Weights=pd.DataFrame(weights)\n",
    "Weights.loc[find_highest_ratio]"
   ]
  },
  {
   "cell_type": "code",
   "execution_count": 164,
   "id": "42501898",
   "metadata": {},
   "outputs": [
    {
     "data": {
      "text/plain": [
       "Int64Index([], dtype='int64')"
      ]
     },
     "execution_count": 164,
     "metadata": {},
     "output_type": "execute_result"
    }
   ],
   "source": [
    "find_highest_ratio"
   ]
  },
  {
   "cell_type": "code",
   "execution_count": 166,
   "id": "e19055b3",
   "metadata": {},
   "outputs": [
    {
     "data": {
      "text/html": [
       "<div>\n",
       "<style scoped>\n",
       "    .dataframe tbody tr th:only-of-type {\n",
       "        vertical-align: middle;\n",
       "    }\n",
       "\n",
       "    .dataframe tbody tr th {\n",
       "        vertical-align: top;\n",
       "    }\n",
       "\n",
       "    .dataframe thead th {\n",
       "        text-align: right;\n",
       "    }\n",
       "</style>\n",
       "<table border=\"1\" class=\"dataframe\">\n",
       "  <thead>\n",
       "    <tr style=\"text-align: right;\">\n",
       "      <th></th>\n",
       "      <th>Sharpe Ratio</th>\n",
       "    </tr>\n",
       "  </thead>\n",
       "  <tbody>\n",
       "    <tr>\n",
       "      <th>0</th>\n",
       "      <td>-0.359848</td>\n",
       "    </tr>\n",
       "    <tr>\n",
       "      <th>1</th>\n",
       "      <td>-0.360845</td>\n",
       "    </tr>\n",
       "    <tr>\n",
       "      <th>2</th>\n",
       "      <td>-0.361868</td>\n",
       "    </tr>\n",
       "    <tr>\n",
       "      <th>3</th>\n",
       "      <td>-0.362915</td>\n",
       "    </tr>\n",
       "    <tr>\n",
       "      <th>4</th>\n",
       "      <td>-0.363984</td>\n",
       "    </tr>\n",
       "    <tr>\n",
       "      <th>5</th>\n",
       "      <td>-0.365073</td>\n",
       "    </tr>\n",
       "    <tr>\n",
       "      <th>6</th>\n",
       "      <td>-0.366179</td>\n",
       "    </tr>\n",
       "    <tr>\n",
       "      <th>7</th>\n",
       "      <td>-0.367296</td>\n",
       "    </tr>\n",
       "    <tr>\n",
       "      <th>8</th>\n",
       "      <td>-0.368420</td>\n",
       "    </tr>\n",
       "    <tr>\n",
       "      <th>9</th>\n",
       "      <td>-0.369541</td>\n",
       "    </tr>\n",
       "    <tr>\n",
       "      <th>10</th>\n",
       "      <td>-0.370649</td>\n",
       "    </tr>\n",
       "    <tr>\n",
       "      <th>11</th>\n",
       "      <td>-0.371732</td>\n",
       "    </tr>\n",
       "    <tr>\n",
       "      <th>12</th>\n",
       "      <td>-0.372771</td>\n",
       "    </tr>\n",
       "    <tr>\n",
       "      <th>13</th>\n",
       "      <td>-0.373743</td>\n",
       "    </tr>\n",
       "    <tr>\n",
       "      <th>14</th>\n",
       "      <td>-0.374621</td>\n",
       "    </tr>\n",
       "    <tr>\n",
       "      <th>15</th>\n",
       "      <td>-0.375367</td>\n",
       "    </tr>\n",
       "    <tr>\n",
       "      <th>16</th>\n",
       "      <td>-0.375934</td>\n",
       "    </tr>\n",
       "    <tr>\n",
       "      <th>17</th>\n",
       "      <td>-0.376263</td>\n",
       "    </tr>\n",
       "    <tr>\n",
       "      <th>18</th>\n",
       "      <td>-0.376275</td>\n",
       "    </tr>\n",
       "    <tr>\n",
       "      <th>19</th>\n",
       "      <td>-0.375876</td>\n",
       "    </tr>\n",
       "    <tr>\n",
       "      <th>20</th>\n",
       "      <td>-0.374942</td>\n",
       "    </tr>\n",
       "    <tr>\n",
       "      <th>21</th>\n",
       "      <td>-0.373321</td>\n",
       "    </tr>\n",
       "    <tr>\n",
       "      <th>22</th>\n",
       "      <td>-0.370823</td>\n",
       "    </tr>\n",
       "    <tr>\n",
       "      <th>23</th>\n",
       "      <td>-0.367216</td>\n",
       "    </tr>\n",
       "    <tr>\n",
       "      <th>24</th>\n",
       "      <td>-0.362222</td>\n",
       "    </tr>\n",
       "    <tr>\n",
       "      <th>25</th>\n",
       "      <td>-0.355517</td>\n",
       "    </tr>\n",
       "    <tr>\n",
       "      <th>26</th>\n",
       "      <td>-0.346738</td>\n",
       "    </tr>\n",
       "    <tr>\n",
       "      <th>27</th>\n",
       "      <td>-0.335503</td>\n",
       "    </tr>\n",
       "    <tr>\n",
       "      <th>28</th>\n",
       "      <td>-0.321448</td>\n",
       "    </tr>\n",
       "    <tr>\n",
       "      <th>29</th>\n",
       "      <td>-0.304285</td>\n",
       "    </tr>\n",
       "    <tr>\n",
       "      <th>30</th>\n",
       "      <td>-0.285009</td>\n",
       "    </tr>\n",
       "    <tr>\n",
       "      <th>31</th>\n",
       "      <td>-0.263955</td>\n",
       "    </tr>\n",
       "    <tr>\n",
       "      <th>32</th>\n",
       "      <td>-0.241048</td>\n",
       "    </tr>\n",
       "    <tr>\n",
       "      <th>33</th>\n",
       "      <td>-0.216249</td>\n",
       "    </tr>\n",
       "    <tr>\n",
       "      <th>34</th>\n",
       "      <td>-0.189608</td>\n",
       "    </tr>\n",
       "    <tr>\n",
       "      <th>35</th>\n",
       "      <td>-0.161153</td>\n",
       "    </tr>\n",
       "    <tr>\n",
       "      <th>36</th>\n",
       "      <td>-0.131025</td>\n",
       "    </tr>\n",
       "    <tr>\n",
       "      <th>37</th>\n",
       "      <td>-0.099435</td>\n",
       "    </tr>\n",
       "    <tr>\n",
       "      <th>38</th>\n",
       "      <td>-0.066655</td>\n",
       "    </tr>\n",
       "    <tr>\n",
       "      <th>39</th>\n",
       "      <td>-0.033018</td>\n",
       "    </tr>\n",
       "    <tr>\n",
       "      <th>40</th>\n",
       "      <td>0.000975</td>\n",
       "    </tr>\n",
       "    <tr>\n",
       "      <th>41</th>\n",
       "      <td>0.026039</td>\n",
       "    </tr>\n",
       "    <tr>\n",
       "      <th>42</th>\n",
       "      <td>0.040444</td>\n",
       "    </tr>\n",
       "    <tr>\n",
       "      <th>43</th>\n",
       "      <td>0.048681</td>\n",
       "    </tr>\n",
       "    <tr>\n",
       "      <th>44</th>\n",
       "      <td>0.053711</td>\n",
       "    </tr>\n",
       "    <tr>\n",
       "      <th>45</th>\n",
       "      <td>0.057005</td>\n",
       "    </tr>\n",
       "    <tr>\n",
       "      <th>46</th>\n",
       "      <td>0.059291</td>\n",
       "    </tr>\n",
       "    <tr>\n",
       "      <th>47</th>\n",
       "      <td>0.060954</td>\n",
       "    </tr>\n",
       "    <tr>\n",
       "      <th>48</th>\n",
       "      <td>0.062211</td>\n",
       "    </tr>\n",
       "    <tr>\n",
       "      <th>49</th>\n",
       "      <td>0.063191</td>\n",
       "    </tr>\n",
       "  </tbody>\n",
       "</table>\n",
       "</div>"
      ],
      "text/plain": [
       "    Sharpe Ratio\n",
       "0      -0.359848\n",
       "1      -0.360845\n",
       "2      -0.361868\n",
       "3      -0.362915\n",
       "4      -0.363984\n",
       "5      -0.365073\n",
       "6      -0.366179\n",
       "7      -0.367296\n",
       "8      -0.368420\n",
       "9      -0.369541\n",
       "10     -0.370649\n",
       "11     -0.371732\n",
       "12     -0.372771\n",
       "13     -0.373743\n",
       "14     -0.374621\n",
       "15     -0.375367\n",
       "16     -0.375934\n",
       "17     -0.376263\n",
       "18     -0.376275\n",
       "19     -0.375876\n",
       "20     -0.374942\n",
       "21     -0.373321\n",
       "22     -0.370823\n",
       "23     -0.367216\n",
       "24     -0.362222\n",
       "25     -0.355517\n",
       "26     -0.346738\n",
       "27     -0.335503\n",
       "28     -0.321448\n",
       "29     -0.304285\n",
       "30     -0.285009\n",
       "31     -0.263955\n",
       "32     -0.241048\n",
       "33     -0.216249\n",
       "34     -0.189608\n",
       "35     -0.161153\n",
       "36     -0.131025\n",
       "37     -0.099435\n",
       "38     -0.066655\n",
       "39     -0.033018\n",
       "40      0.000975\n",
       "41      0.026039\n",
       "42      0.040444\n",
       "43      0.048681\n",
       "44      0.053711\n",
       "45      0.057005\n",
       "46      0.059291\n",
       "47      0.060954\n",
       "48      0.062211\n",
       "49      0.063191"
      ]
     },
     "execution_count": 166,
     "metadata": {},
     "output_type": "execute_result"
    }
   ],
   "source": [
    "Sharpe_Ratio"
   ]
  },
  {
   "cell_type": "code",
   "execution_count": null,
   "id": "bea55b7b",
   "metadata": {},
   "outputs": [],
   "source": []
  }
 ],
 "metadata": {
  "kernelspec": {
   "display_name": "Python 3",
   "language": "python",
   "name": "python3"
  },
  "language_info": {
   "codemirror_mode": {
    "name": "ipython",
    "version": 3
   },
   "file_extension": ".py",
   "mimetype": "text/x-python",
   "name": "python",
   "nbconvert_exporter": "python",
   "pygments_lexer": "ipython3",
   "version": "3.8.8"
  }
 },
 "nbformat": 4,
 "nbformat_minor": 5
}
